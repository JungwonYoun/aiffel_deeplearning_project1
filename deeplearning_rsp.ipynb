{
 "cells": [
  {
   "cell_type": "markdown",
   "id": "3693542a",
   "metadata": {},
   "source": [
    "# 미니 프로젝트 : 가위바위보 분류기를 만들자"
   ]
  },
  {
   "cell_type": "markdown",
   "id": "121d275a",
   "metadata": {},
   "source": [
    "## 라이브러리 import"
   ]
  },
  {
   "cell_type": "code",
   "execution_count": 16,
   "id": "d1133590",
   "metadata": {},
   "outputs": [
    {
     "name": "stdout",
     "output_type": "stream",
     "text": [
      "2.6.0\n",
      "1.22.2\n"
     ]
    }
   ],
   "source": [
    "import tensorflow as tf\n",
    "import numpy as np\n",
    "\n",
    "print(tf.__version__)\n",
    "print(np.__version__)"
   ]
  },
  {
   "cell_type": "markdown",
   "id": "2e29ce6c",
   "metadata": {},
   "source": [
    "## 데이터 불러오기 + Resize 하기"
   ]
  },
  {
   "cell_type": "markdown",
   "id": "f49b178f",
   "metadata": {},
   "source": [
    "💡 숫자 손글씨의 경우 이미지 크기가 28x28 이었기 때문에, 우리의 가위, 바위, 보 이미지도 28x28로 만들어야 합니다. \n",
    "\n",
    "이를 위해서는 PIL 라이브러리를 사용해볼 거예요. 그러려면 먼저 라이브러리를 불러와야 겠죠?"
   ]
  },
  {
   "cell_type": "code",
   "execution_count": 17,
   "id": "6a0b5b03",
   "metadata": {},
   "outputs": [
    {
     "name": "stdout",
     "output_type": "stream",
     "text": [
      "PIL 라이브러리 import 완료!\n"
     ]
    }
   ],
   "source": [
    "from PIL import Image \n",
    "import glob\n",
    "import os\n",
    "\n",
    "print(\"PIL 라이브러리 import 완료!\")"
   ]
  },
  {
   "cell_type": "markdown",
   "id": "ce09e810",
   "metadata": {},
   "source": [
    "💡 이제 가위,바위,보 이미지를 불러와서 28x28 사이즈로 변경할 겁니다"
   ]
  },
  {
   "cell_type": "code",
   "execution_count": 21,
   "id": "07eaaff0",
   "metadata": {},
   "outputs": [
    {
     "name": "stdout",
     "output_type": "stream",
     "text": [
      "1117  images to be resized.\n",
      "1117  images resized.\n",
      "가위 이미지 resize 완료!\n"
     ]
    }
   ],
   "source": [
    "def resize_images(img_path):\n",
    "\timages=glob.glob(img_path + \"/*.jpg\")  \n",
    "    \n",
    "\tprint(len(images), \" images to be resized.\")\n",
    "\n",
    "    # 파일마다 모두 28x28 사이즈로 바꾸어 저장합니다.\n",
    "\ttarget_size=(64,64)\n",
    "\tfor img in images:\n",
    "\t\told_img=Image.open(img)\n",
    "\t\tnew_img=old_img.resize(target_size,Image.ANTIALIAS)\n",
    "\t\tnew_img.save(img, \"JPEG\")\n",
    "    \n",
    "\tprint(len(images), \" images resized.\")\n",
    "\t\n",
    "# 가위 이미지가 저장된 디렉토리 아래의 모든 jpg 파일을 읽어들여서\n",
    "image_dir_path = os.getenv(\"HOME\") + \"/aiffel/rock_scissor_paper/scissor/scissor\"\n",
    "resize_images(image_dir_path)\n",
    "\n",
    "print(\"가위 이미지 resize 완료!\")"
   ]
  },
  {
   "cell_type": "code",
   "execution_count": 22,
   "id": "86669067",
   "metadata": {},
   "outputs": [
    {
     "name": "stdout",
     "output_type": "stream",
     "text": [
      "1288  images to be resized.\n",
      "1288  images resized.\n",
      "바위 이미지 resize 완료!\n"
     ]
    }
   ],
   "source": [
    "# 바위\n",
    "\n",
    "image_dir_path = os.getenv(\"HOME\") + \"/aiffel/rock_scissor_paper/rock/rock\"\n",
    "\n",
    "resize_images(image_dir_path)\n",
    "\n",
    "print(\"바위 이미지 resize 완료!\")"
   ]
  },
  {
   "cell_type": "code",
   "execution_count": 23,
   "id": "082597e4",
   "metadata": {},
   "outputs": [
    {
     "name": "stdout",
     "output_type": "stream",
     "text": [
      "1271  images to be resized.\n",
      "1271  images resized.\n",
      "보 이미지 resize 완료!\n"
     ]
    }
   ],
   "source": [
    "# 보\n",
    "\n",
    "image_dir_path = os.getenv(\"HOME\") + \"/aiffel/rock_scissor_paper/paper/paper\"\n",
    "resize_images(image_dir_path)\n",
    "\n",
    "print(\"보 이미지 resize 완료!\")"
   ]
  },
  {
   "cell_type": "markdown",
   "id": "1f5ef029",
   "metadata": {},
   "source": [
    "💡load_data() 함수는 입력으로 이미지가 있는 폴더 위치를 받습니다. \n",
    "\n",
    "여기서는 rock_scissor_paper 폴더 위치를 적어주면 됩니다. \n",
    "\n",
    "가위바위보의 경우 3개의 클래스 즉, 가위: 0, 바위: 1, 보: 2 로 라벨링이 될 것입니다."
   ]
  },
  {
   "cell_type": "code",
   "execution_count": 27,
   "id": "192ecbda",
   "metadata": {},
   "outputs": [
    {
     "name": "stdout",
     "output_type": "stream",
     "text": [
      "학습데이터(x_train)의 이미지 개수는 3676 입니다.\n",
      "x_train shape: (3676, 64, 64, 3)\n",
      "y_train shape: (3676,)\n"
     ]
    }
   ],
   "source": [
    "import numpy as np\n",
    "\n",
    "def load_data(img_path, number_of_data=3676):  # 가위바위보 이미지 개수 총합에 주의하세요.\n",
    "    # 가위 : 0, 바위 : 1, 보 : 2\n",
    "    img_size=64\n",
    "    color=3\n",
    "    #이미지 데이터와 라벨(가위 : 0, 바위 : 1, 보 : 2) 데이터를 담을 행렬(matrix) 영역을 생성합니다.\n",
    "    imgs=np.zeros(number_of_data*img_size*img_size*color,dtype=np.int32).reshape(number_of_data,img_size,img_size,color)\n",
    "    labels=np.zeros(number_of_data,dtype=np.int32)\n",
    "\n",
    "    idx=0\n",
    "    for file in glob.iglob(img_path+'/scissor/scissor/*.jpg'):\n",
    "        img = np.array(Image.open(file),dtype=np.int32)\n",
    "        imgs[idx,:,:,:]=img    # 데이터 영역에 이미지 행렬을 복사\n",
    "        labels[idx]=0   # 가위 : 0\n",
    "        idx=idx+1\n",
    "\n",
    "    for file in glob.iglob(img_path+'/rock/rock/*.jpg'):\n",
    "        img = np.array(Image.open(file),dtype=np.int32)\n",
    "        imgs[idx,:,:,:]=img    # 데이터 영역에 이미지 행렬을 복사\n",
    "        labels[idx]=1   # 바위 : 1\n",
    "        idx=idx+1  \n",
    "    \n",
    "    for file in glob.iglob(img_path+'/paper/paper/*.jpg'):\n",
    "        img = np.array(Image.open(file),dtype=np.int32)\n",
    "        imgs[idx,:,:,:]=img    # 데이터 영역에 이미지 행렬을 복사\n",
    "        labels[idx]=2   # 보 : 2\n",
    "        idx=idx+1\n",
    "        \n",
    "    print(\"학습데이터(x_train)의 이미지 개수는\", idx,\"입니다.\")\n",
    "    return imgs, labels\n",
    "\n",
    "image_dir_path = os.getenv(\"HOME\") + \"/aiffel/rock_scissor_paper\"\n",
    "(x_train, y_train)=load_data(image_dir_path)\n",
    "x_train_norm = x_train/255.0   # 입력은 0~1 사이의 값으로 정규화\n",
    "\n",
    "print(\"x_train shape: {}\".format(x_train.shape))\n",
    "print(\"y_train shape: {}\".format(y_train.shape))"
   ]
  },
  {
   "cell_type": "code",
   "execution_count": 28,
   "id": "c2760f73",
   "metadata": {},
   "outputs": [
    {
     "name": "stdout",
     "output_type": "stream",
     "text": [
      "라벨:  0\n"
     ]
    },
    {
     "data": {
      "image/png": "[encoded data removed]",
      "text/plain": [
       "<Figure size 432x288 with 1 Axes>"
      ]
     },
     "metadata": {
      "needs_background": "light"
     },
     "output_type": "display_data"
    }
   ],
   "source": [
    "import matplotlib.pyplot as plt\n",
    "\n",
    "plt.imshow(x_train[0])\n",
    "print('라벨: ', y_train[0])"
   ]
  },
  {
   "cell_type": "markdown",
   "id": "842ef9b6",
   "metadata": {},
   "source": [
    "## 딥러닝 네트워크 설계하기"
   ]
  },
  {
   "cell_type": "code",
   "execution_count": 31,
   "id": "25696b93",
   "metadata": {},
   "outputs": [
    {
     "name": "stdout",
     "output_type": "stream",
     "text": [
      "Model: \"sequential_2\"\n",
      "_________________________________________________________________\n",
      "Layer (type)                 Output Shape              Param #   \n",
      "=================================================================\n",
      "conv2d_4 (Conv2D)            (None, 62, 62, 32)        896       \n",
      "_________________________________________________________________\n",
      "max_pooling2d_4 (MaxPooling2 (None, 31, 31, 32)        0         \n",
      "_________________________________________________________________\n",
      "conv2d_5 (Conv2D)            (None, 29, 29, 64)        18496     \n",
      "_________________________________________________________________\n",
      "max_pooling2d_5 (MaxPooling2 (None, 14, 14, 64)        0         \n",
      "_________________________________________________________________\n",
      "flatten_2 (Flatten)          (None, 12544)             0         \n",
      "_________________________________________________________________\n",
      "dense_4 (Dense)              (None, 32)                401440    \n",
      "_________________________________________________________________\n",
      "dense_5 (Dense)              (None, 3)                 99        \n",
      "=================================================================\n",
      "Total params: 420,931\n",
      "Trainable params: 420,931\n",
      "Non-trainable params: 0\n",
      "_________________________________________________________________\n"
     ]
    }
   ],
   "source": [
    "import tensorflow as tf\n",
    "from tensorflow import keras\n",
    "import numpy as np\n",
    "\n",
    "# model을 직접 만들어 보세요.\n",
    "# Hint! model의 입력/출력부에 특히 유의해 주세요. 가위바위보 데이터셋은 MNIST 데이터셋과 어떤 점이 달라졌나요?\n",
    "# 아래의 하이퍼파라미터는 예시입니다. 높은 인식률을 얻기 위해 하이퍼파라미터를 수정해 보세요. \n",
    "n_channel_1=32\n",
    "n_channel_2=64\n",
    "n_dense=32\n",
    "n_train_epoch=10\n",
    "\n",
    "model=keras.models.Sequential()\n",
    "model.add(keras.layers.Conv2D(n_channel_1, (3,3), activation='relu', input_shape=(64,64,3)))\n",
    "model.add(keras.layers.MaxPool2D(2,2))\n",
    "model.add(keras.layers.Conv2D(n_channel_2, (3,3), activation='relu'))\n",
    "model.add(keras.layers.MaxPooling2D((2,2)))\n",
    "model.add(keras.layers.Flatten())\n",
    "model.add(keras.layers.Dense(n_dense, activation='relu'))\n",
    "model.add(keras.layers.Dense(3, activation='softmax'))\n",
    "\n",
    "model.summary()"
   ]
  },
  {
   "cell_type": "markdown",
   "id": "904072f6",
   "metadata": {},
   "source": [
    "## 딥러닝 네트워크 학습시키기\n"
   ]
  },
  {
   "cell_type": "code",
   "execution_count": 32,
   "id": "1109126e",
   "metadata": {},
   "outputs": [
    {
     "name": "stdout",
     "output_type": "stream",
     "text": [
      "Epoch 1/10\n",
      "115/115 [==============================] - 25s 213ms/step - loss: 5.8888 - accuracy: 0.7867\n",
      "Epoch 2/10\n",
      "115/115 [==============================] - 25s 220ms/step - loss: 0.0722 - accuracy: 0.9758\n",
      "Epoch 3/10\n",
      "115/115 [==============================] - 26s 222ms/step - loss: 0.0713 - accuracy: 0.9791\n",
      "Epoch 4/10\n",
      "115/115 [==============================] - 26s 225ms/step - loss: 0.0923 - accuracy: 0.9668\n",
      "Epoch 5/10\n",
      "115/115 [==============================] - 26s 228ms/step - loss: 0.0463 - accuracy: 0.9867\n",
      "Epoch 6/10\n",
      "115/115 [==============================] - 28s 240ms/step - loss: 0.0032 - accuracy: 0.9995\n",
      "Epoch 7/10\n",
      "115/115 [==============================] - 26s 227ms/step - loss: 3.4845e-04 - accuracy: 1.0000\n",
      "Epoch 8/10\n",
      "115/115 [==============================] - 25s 222ms/step - loss: 1.7633e-04 - accuracy: 1.0000\n",
      "Epoch 9/10\n",
      "115/115 [==============================] - 26s 224ms/step - loss: 1.2301e-04 - accuracy: 1.0000\n",
      "Epoch 10/10\n",
      "115/115 [==============================] - 26s 224ms/step - loss: 9.4935e-05 - accuracy: 1.0000\n"
     ]
    },
    {
     "data": {
      "text/plain": [
       "<keras.callbacks.History at 0x7f1442c24550>"
      ]
     },
     "execution_count": 32,
     "metadata": {},
     "output_type": "execute_result"
    }
   ],
   "source": [
    "model.compile(optimizer='adam',\n",
    "             loss='sparse_categorical_crossentropy',\n",
    "             metrics=['accuracy'])\n",
    "\n",
    "# 모델 훈련\n",
    "model.fit(x_train, y_train, epochs=n_train_epoch)"
   ]
  },
  {
   "cell_type": "code",
   "execution_count": 35,
   "id": "d35634b4",
   "metadata": {
    "scrolled": true
   },
   "outputs": [
    {
     "name": "stdout",
     "output_type": "stream",
     "text": [
      "Epoch 1/10\n",
      "13/13 [==============================] - 30s 2s/step - loss: 7.9360e-05 - accuracy: 1.0000\n",
      "Epoch 2/10\n",
      "13/13 [==============================] - 29s 2s/step - loss: 7.7279e-05 - accuracy: 1.0000\n",
      "Epoch 3/10\n",
      "13/13 [==============================] - 29s 2s/step - loss: 7.5523e-05 - accuracy: 1.0000\n",
      "Epoch 4/10\n",
      "13/13 [==============================] - 29s 2s/step - loss: 7.3537e-05 - accuracy: 1.0000\n",
      "Epoch 5/10\n",
      "13/13 [==============================] - 29s 2s/step - loss: 7.1813e-05 - accuracy: 1.0000\n",
      "Epoch 6/10\n",
      "13/13 [==============================] - 29s 2s/step - loss: 7.0232e-05 - accuracy: 1.0000\n",
      "Epoch 7/10\n",
      "13/13 [==============================] - 29s 2s/step - loss: 6.8716e-05 - accuracy: 1.0000\n",
      "Epoch 8/10\n",
      "13/13 [==============================] - 29s 2s/step - loss: 6.7251e-05 - accuracy: 1.0000\n",
      "Epoch 9/10\n",
      "13/13 [==============================] - 29s 2s/step - loss: 6.5911e-05 - accuracy: 1.0000\n",
      "Epoch 10/10\n",
      "13/13 [==============================] - 29s 2s/step - loss: 6.4532e-05 - accuracy: 1.0000\n"
     ]
    }
   ],
   "source": [
    "# model training\n",
    "history = model.fit(\n",
    "    x_train,\n",
    "    y_train,\n",
    "    # validation_data=(x_test, y_test),\n",
    "    epochs=n_train_epoch,\n",
    "    batch_size = 300,\n",
    ")"
   ]
  },
  {
   "cell_type": "code",
   "execution_count": 36,
   "id": "2d0dfda3",
   "metadata": {},
   "outputs": [
    {
     "data": {
      "text/plain": [
       "Text(0, 0.5, 'Accuracy')"
      ]
     },
     "execution_count": 36,
     "metadata": {},
     "output_type": "execute_result"
    },
    {
     "data": {
      "image/png": "[encoded data removed]",
      "text/plain": [
       "<Figure size 432x288 with 1 Axes>"
      ]
     },
     "metadata": {
      "needs_background": "light"
     },
     "output_type": "display_data"
    }
   ],
   "source": [
    "epochs_ = range(0, n_train_epoch)  # number of epochs  \n",
    "accuracy_train = history.history['accuracy']  ##getting  accuracy of each epochs\n",
    "\n",
    "plt.plot(epochs_, accuracy_train, label='Training accuracy', color='blue', marker = 'o')\n",
    "plt.xlabel('Number of epochs')\n",
    "plt.ylabel('Accuracy')"
   ]
  },
  {
   "cell_type": "code",
   "execution_count": 37,
   "id": "ddba46c8",
   "metadata": {},
   "outputs": [
    {
     "data": {
      "text/plain": [
       "Text(0, 0.5, 'Loss')"
      ]
     },
     "execution_count": 37,
     "metadata": {},
     "output_type": "execute_result"
    },
    {
     "data": {
      "image/png": "[encoded data removed]",
      "text/plain": [
       "<Figure size 432x288 with 1 Axes>"
      ]
     },
     "metadata": {
      "needs_background": "light"
     },
     "output_type": "display_data"
    }
   ],
   "source": [
    "epochs_ = range(0, n_train_epoch)  # number of epochs  \n",
    "loss_train = history.history['loss']    ##getting  loss of each epochs\n",
    "\n",
    "plt.plot(epochs_, loss_train, label='training loss', color='blue', marker = 'o')\n",
    "plt.xlabel('Number of epochs')\n",
    "plt.ylabel('Loss')"
   ]
  },
  {
   "cell_type": "markdown",
   "id": "0669a490",
   "metadata": {},
   "source": [
    "# 얼마나 잘 만들었는지 확인하기(테스트)\n"
   ]
  },
  {
   "cell_type": "markdown",
   "id": "acd185a1",
   "metadata": {},
   "source": [
    "💡 테스트용 데이터인 x_test, y_test를 만들어 봅시다"
   ]
  },
  {
   "cell_type": "code",
   "execution_count": 33,
   "id": "7c0ff8a6",
   "metadata": {},
   "outputs": [
    {
     "name": "stdout",
     "output_type": "stream",
     "text": [
      "206  images to be resized.\n",
      "206  images resized.\n",
      "205  images to be resized.\n",
      "205  images resized.\n",
      "214  images to be resized.\n",
      "214  images resized.\n",
      "학습데이터(x_train)의 이미지 개수는 625 입니다.\n",
      "x_test shape: (1133, 64, 64, 3)\n",
      "y_test shape: (1133,)\n"
     ]
    }
   ],
   "source": [
    "image_dir_path = os.getenv(\"HOME\") + \"/aiffel/rock_scissor_paper/test/scissor/scissor\"\n",
    "resize_images(image_dir_path)\n",
    "\n",
    "image_dir_path = os.getenv(\"HOME\") + \"/aiffel/rock_scissor_paper/test/rock/rock\"\n",
    "resize_images(image_dir_path)\n",
    "\n",
    "image_dir_path = os.getenv(\"HOME\") + \"/aiffel/rock_scissor_paper/test/paper/paper\"\n",
    "resize_images(image_dir_path)\n",
    "\n",
    "image_dir_path = os.getenv(\"HOME\") + \"/aiffel/rock_scissor_paper/test\"\n",
    "\n",
    "(x_test, y_test)=load_data(image_dir_path, number_of_data=1133)\n",
    "x_test_norm = x_test/255.0   # 입력은 0~1 사이의 값으로 정규화\n",
    "print(\"x_test shape: {}\".format(x_test.shape))\n",
    "print(\"y_test shape: {}\".format(y_test.shape))"
   ]
  },
  {
   "cell_type": "markdown",
   "id": "5e302187",
   "metadata": {},
   "source": [
    "💡 테스트용 데이터가 준비되었으니, 위에서 훈련시킨 model을 사용하여 test_accuracy를 측정해 봅시다."
   ]
  },
  {
   "cell_type": "code",
   "execution_count": 34,
   "id": "dc992757",
   "metadata": {},
   "outputs": [
    {
     "name": "stdout",
     "output_type": "stream",
     "text": [
      "36/36 - 2s - loss: 2.2456 - accuracy: 0.6840\n",
      "test_loss: 2.245560646057129 \n",
      "test_accuracy: 0.6840246915817261\n"
     ]
    }
   ],
   "source": [
    "test_loss, test_accuracy = model.evaluate(x_test, y_test, verbose=2)\n",
    "print(\"test_loss: {} \".format(test_loss))\n",
    "print(\"test_accuracy: {}\".format(test_accuracy))"
   ]
  },
  {
   "cell_type": "markdown",
   "id": "2b1d4562",
   "metadata": {},
   "source": [
    "# 회고\n",
    "프로젝트 최종 결과 : 이미지 사이즈를 64X64로 설정하고, 각 parameter들을 'n_channel_1=32, n_channel_2=64, n_dense=32, n_train_epoch=10'로 설정하였다. 다른 조의 한분의 데이터를 가져와 테스트 데이터로서 모델을 적용시켜본 결과, 최종적으로 68%의 정확도가 나왔다.\n",
    "\n",
    "잘한 점: 많은 파라미터를 적용시켜보고 시행착오를 겪으면서 최고의 점수를 내기 위해서 노력했다.\n",
    "\n",
    "못한 점: 각 파라미터의 역할이나 영향력에 대해 정확히 알지 못한 상태에서 실험하듯이, 여러번 parameter를 바꾸어가며 노드를 진행하였다. 제대로 이해하고 필요에 따라 parameter를 바꾸어 본 것이 아니라 무작위로 좋은 값을 찾기 위해서 노력한것 같아 아쉽다.\n",
    "\n",
    "앞으로 발전할 점: 각 parameter의 역할이나, 딥러닝의 원리를 제대로 이해한 후 같은 상황이 발생했을때, 더욱 효율적으로 최적의 parameter값을 찾을 수 있도록 이론 공부가 더 필요하다."
   ]
  },
  {
   "cell_type": "code",
   "execution_count": null,
   "id": "0e6c5153",
   "metadata": {},
   "outputs": [],
   "source": []
  }
 ],
 "metadata": {
  "kernelspec": {
   "display_name": "Python 3 (ipykernel)",
   "language": "python",
   "name": "python3"
  },
  "language_info": {
   "codemirror_mode": {
    "name": "ipython",
    "version": 3
   },
   "file_extension": ".py",
   "mimetype": "text/x-python",
   "name": "python",
   "nbconvert_exporter": "python",
   "pygments_lexer": "ipython3",
   "version": "3.9.7"
  }
 },
 "nbformat": 4,
 "nbformat_minor": 5
}
